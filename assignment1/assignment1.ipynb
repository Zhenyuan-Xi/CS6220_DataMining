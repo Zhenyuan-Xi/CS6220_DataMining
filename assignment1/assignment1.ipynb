{
 "cells": [
  {
   "cell_type": "code",
   "execution_count": 17,
   "metadata": {},
   "outputs": [],
   "source": [
    "import pandas as pd\n",
    "%matplotlib inline"
   ]
  },
  {
   "cell_type": "code",
   "execution_count": 18,
   "metadata": {},
   "outputs": [],
   "source": [
    "names = ['user_id', 'movie_id', 'rating', 'timestamp', 'gender', 'age', 'occupation', 'zip', 'title', 'genres']\n",
    "data = pd.read_table('separated data/genre_seperated.dat', sep='\\t', header=None, names=names, engine='python')"
   ]
  },
  {
   "cell_type": "code",
   "execution_count": 19,
   "metadata": {},
   "outputs": [],
   "source": [
    "# An aggregate of the movie ratings for each particular genre\n",
    "\n",
    "total_ratings_by_genre = data.pivot_table('rating', index='genres', aggfunc=sum)"
   ]
  },
  {
   "cell_type": "code",
   "execution_count": 20,
   "metadata": {},
   "outputs": [
    {
     "data": {
      "text/html": [
       "<div>\n",
       "<style scoped>\n",
       "    .dataframe tbody tr th:only-of-type {\n",
       "        vertical-align: middle;\n",
       "    }\n",
       "\n",
       "    .dataframe tbody tr th {\n",
       "        vertical-align: top;\n",
       "    }\n",
       "\n",
       "    .dataframe thead th {\n",
       "        text-align: right;\n",
       "    }\n",
       "</style>\n",
       "<table border=\"1\" class=\"dataframe\">\n",
       "  <thead>\n",
       "    <tr style=\"text-align: right;\">\n",
       "      <th></th>\n",
       "      <th>rating</th>\n",
       "    </tr>\n",
       "    <tr>\n",
       "      <th>genres</th>\n",
       "      <th></th>\n",
       "    </tr>\n",
       "  </thead>\n",
       "  <tbody>\n",
       "    <tr>\n",
       "      <th>Action</th>\n",
       "      <td>898830</td>\n",
       "    </tr>\n",
       "    <tr>\n",
       "      <th>Adventure</th>\n",
       "      <td>465789</td>\n",
       "    </tr>\n",
       "    <tr>\n",
       "      <th>Animation</th>\n",
       "      <td>159567</td>\n",
       "    </tr>\n",
       "    <tr>\n",
       "      <th>Children's</th>\n",
       "      <td>247061</td>\n",
       "    </tr>\n",
       "    <tr>\n",
       "      <th>Comedy</th>\n",
       "      <td>1255948</td>\n",
       "    </tr>\n",
       "  </tbody>\n",
       "</table>\n",
       "</div>"
      ],
      "text/plain": [
       "             rating\n",
       "genres             \n",
       "Action       898830\n",
       "Adventure    465789\n",
       "Animation    159567\n",
       "Children's   247061\n",
       "Comedy      1255948"
      ]
     },
     "execution_count": 20,
     "metadata": {},
     "output_type": "execute_result"
    }
   ],
   "source": [
    "total_ratings_by_genre.head()"
   ]
  },
  {
   "cell_type": "code",
   "execution_count": 21,
   "metadata": {},
   "outputs": [],
   "source": [
    "total_ratings_by_gender = data.pivot_table('rating', index='genres', columns='gender', aggfunc=sum)"
   ]
  },
  {
   "cell_type": "code",
   "execution_count": 22,
   "metadata": {},
   "outputs": [
    {
     "data": {
      "text/plain": [
       "genres\n",
       "Drama       369611\n",
       "Comedy      343890\n",
       "Romance     184770\n",
       "Action      159330\n",
       "Thriller    144035\n",
       "Name: F, dtype: int64"
      ]
     },
     "execution_count": 22,
     "metadata": {},
     "output_type": "execute_result"
    }
   ],
   "source": [
    "# The top5 highest ranked genre by women\n",
    "\n",
    "total_ratings_by_gender.sort_values(('F'), ascending=False)['F'].head()"
   ]
  },
  {
   "cell_type": "code",
   "execution_count": 23,
   "metadata": {},
   "outputs": [
    {
     "data": {
      "text/plain": [
       "genres\n",
       "Drama       965663\n",
       "Comedy      912058\n",
       "Action      739500\n",
       "Thriller    533211\n",
       "Sci-Fi      450726\n",
       "Name: M, dtype: int64"
      ]
     },
     "execution_count": 23,
     "metadata": {},
     "output_type": "execute_result"
    }
   ],
   "source": [
    "# The top5 highest ranked genre by men\n",
    "\n",
    "total_ratings_by_gender.sort_values(('M'), ascending=False)['M'].head()"
   ]
  },
  {
   "cell_type": "code",
   "execution_count": 24,
   "metadata": {},
   "outputs": [
    {
     "data": {
      "text/html": [
       "<div>\n",
       "<style scoped>\n",
       "    .dataframe tbody tr th:only-of-type {\n",
       "        vertical-align: middle;\n",
       "    }\n",
       "\n",
       "    .dataframe tbody tr th {\n",
       "        vertical-align: top;\n",
       "    }\n",
       "\n",
       "    .dataframe thead th {\n",
       "        text-align: right;\n",
       "    }\n",
       "</style>\n",
       "<table border=\"1\" class=\"dataframe\">\n",
       "  <thead>\n",
       "    <tr style=\"text-align: right;\">\n",
       "      <th></th>\n",
       "      <th>rating</th>\n",
       "    </tr>\n",
       "    <tr>\n",
       "      <th>age_group</th>\n",
       "      <th></th>\n",
       "    </tr>\n",
       "  </thead>\n",
       "  <tbody>\n",
       "    <tr>\n",
       "      <th>0-9</th>\n",
       "      <td>439</td>\n",
       "    </tr>\n",
       "    <tr>\n",
       "      <th>10-19</th>\n",
       "      <td>587</td>\n",
       "    </tr>\n",
       "    <tr>\n",
       "      <th>20-29</th>\n",
       "      <td>3319</td>\n",
       "    </tr>\n",
       "    <tr>\n",
       "      <th>30-39</th>\n",
       "      <td>1820</td>\n",
       "    </tr>\n",
       "    <tr>\n",
       "      <th>40-49</th>\n",
       "      <td>648</td>\n",
       "    </tr>\n",
       "    <tr>\n",
       "      <th>50-59</th>\n",
       "      <td>1800</td>\n",
       "    </tr>\n",
       "  </tbody>\n",
       "</table>\n",
       "</div>"
      ],
      "text/plain": [
       "           rating\n",
       "age_group        \n",
       "0-9           439\n",
       "10-19         587\n",
       "20-29        3319\n",
       "30-39        1820\n",
       "40-49         648\n",
       "50-59        1800"
      ]
     },
     "execution_count": 24,
     "metadata": {},
     "output_type": "execute_result"
    }
   ],
   "source": [
    "# A breakdown of a movie's ratings by age, using movie 'Toy Story (1995)'\n",
    "\n",
    "labels = ['0-9', '10-19', '20-29', '30-39', '40-49', '50-59', '60-69', '70-79']\n",
    "data['age_group'] = pd.cut(data.age, range(0, 81, 10), right=False, labels=labels)\n",
    "movie = data.loc[data['title'] == 'Toy Story (1995)'][['user_id', 'title', 'rating', 'age', 'age_group']].drop_duplicates()\n",
    "rating_by_age_group = movie.pivot_table('rating', index='age_group', aggfunc=sum)\n",
    "rating_by_age_group.sort_values(('age_group'))"
   ]
  },
  {
   "cell_type": "code",
   "execution_count": 25,
   "metadata": {},
   "outputs": [
    {
     "name": "stdout",
     "output_type": "stream",
     "text": [
      "[9, 10, 19, 34, 36, 38, 44, 49, 51, 56, 65, 75, 76, 112, 119, 121, 132, 146, 148, 156, 157, 162, 169, 182, 184, 186, 195, 198, 213, 220, 223, 231, 239, 246, 258, 272, 273, 284, 300, 301, 307, 325, 333, 343, 346, 350, 369, 385, 389, 411, 413, 429, 434, 438, 451, 456, 463, 474, 478, 479, 496, 523, 524, 528, 529, 531, 536, 541, 543, 549, 550, 555, 563, 577, 583, 590, 605, 606, 610, 613, 623, 626, 634, 635, 637, 641, 645, 646, 669, 676, 678, 690, 692, 707, 710, 714, 716, 718, 722, 726, 729, 731, 733, 739, 749, 752, 753, 765, 776, 791, 801, 802, 813, 817, 822, 839, 840, 858, 869, 877, 880, 885, 890, 891, 894, 926, 929, 933, 934, 938, 946, 949, 951, 957, 1000, 1004, 1015, 1021, 1032, 1036, 1051, 1054, 1055, 1057, 1059, 1061, 1072, 1076, 1087, 1107, 1112, 1117, 1124, 1125, 1132, 1141, 1145, 1155, 1183, 1202, 1203, 1221, 1223, 1224, 1239, 1266, 1271, 1272, 1274, 1280, 1283, 1285, 1287, 1294, 1298, 1306, 1322, 1325, 1332, 1336, 1340, 1343, 1345, 1350, 1359, 1367, 1389, 1391, 1400, 1407, 1413, 1421, 1425, 1427, 1448, 1458, 1476, 1481, 1491, 1507, 1516, 1532, 1546, 1555, 1556, 1568, 1586, 1588, 1597, 1599, 1613, 1628, 1634, 1635, 1647, 1657, 1664, 1671, 1673, 1675, 1676, 1678, 1684, 1687, 1695, 1697, 1712, 1714, 1716, 1727, 1737, 1743, 1752, 1765, 1767, 1778, 1793, 1805, 1806, 1820, 1823, 1826, 1834, 1835, 1836, 1841, 1842, 1850, 1853, 1858, 1860, 1875, 1879, 1880, 1885, 1899, 1901, 1904, 1914, 1917, 1922, 1926, 1928, 1938, 1941, 1949, 1950, 1951, 1956, 1958, 1960, 1962, 1969, 1975, 1976, 1983, 1995, 1996, 1998, 1999, 2016, 2020, 2023, 2027, 2029, 2035, 2054, 2060, 2063, 2068, 2070, 2073, 2083, 2085, 2096, 2098, 2108, 2116, 2135, 2142, 2145, 2147, 2148, 2153, 2162, 2164, 2173, 2180, 2181, 2214, 2223, 2224, 2233, 2255, 2259, 2310, 2321, 2374, 2378, 2386, 2403, 2414, 2436, 2448, 2462, 2484, 2510, 2516, 2529, 2533, 2562, 2574, 2581, 2583, 2593, 2611, 2619, 2624, 2634, 2638, 2639, 2641, 2648, 2652, 2661, 2664, 2665, 2666, 2681, 2689, 2691, 2692, 2699, 2718, 2723, 2724, 2748, 2753, 2754, 2756, 2766, 2787, 2788, 2799, 2809, 2817, 2824, 2831, 2848, 2853, 2859, 2862, 2873, 2885, 2887, 2895, 2902, 2909, 2924, 2931, 2938, 2939, 2941, 2966, 2968, 2972, 2979, 2989, 2996, 2999, 3002, 3006, 3007, 3018, 3025, 3032, 3074, 3077, 3081, 3087, 3095, 3125, 3138, 3147, 3151, 3154, 3161, 3163, 3167, 3174, 3177, 3185, 3205, 3213, 3230, 3254, 3260, 3261, 3269, 3272, 3277, 3285, 3306, 3308, 3344, 3346, 3353, 3356, 3371, 3378, 3394, 3399, 3401, 3414, 3415, 3433, 3437, 3438, 3454, 3458, 3465, 3470, 3486, 3499, 3501, 3513, 3515, 3521, 3526, 3527, 3538, 3557, 3560, 3562, 3572, 3576, 3590, 3592, 3593, 3594, 3596, 3597, 3600, 3601, 3608, 3609, 3624, 3652, 3665, 3675, 3676, 3681, 3686, 3687, 3691, 3696, 3701, 3705, 3706, 3709, 3711, 3713, 3715, 3717, 3724, 3726, 3729, 3738, 3749, 3751, 3752, 3755, 3756, 3759, 3760, 3768, 3769, 3770, 3775, 3777, 3780, 3784, 3789, 3799, 3804, 3808, 3813, 3834, 3840, 3845, 3848, 3853, 3857, 3862, 3864, 3871, 3886, 3892, 3900, 3904, 3907, 3912, 3913, 3930, 3933, 3935, 3940, 3943, 3946, 3958, 3974, 3975, 3976, 3996, 3997, 3999, 4005, 4016, 4021, 4033, 4036, 4041, 4048, 4050, 4063, 4064, 4081, 4086, 4089, 4092, 4094, 4096, 4104, 4106, 4112, 4118, 4126, 4133, 4137, 4141, 4149, 4153, 4159, 4165, 4177, 4197, 4204, 4206, 4220, 4224, 4226, 4231, 4258, 4261, 4269, 4271, 4277, 4290, 4312, 4315, 4318, 4329, 4335, 4344, 4352, 4361, 4363, 4386, 4389, 4408, 4409, 4422, 4427, 4436, 4444, 4449, 4452, 4456, 4470, 4482, 4489, 4506, 4509, 4510, 4512, 4518, 4524, 4543, 4553, 4561, 4571, 4572, 4579, 4588, 4589, 4591, 4595, 4598, 4607, 4640, 4641, 4655, 4658, 4659, 4666, 4671, 4682, 4687, 4701, 4715, 4718, 4725, 4739, 4744, 4748, 4750, 4754, 4757, 4764, 4776, 4784, 4785, 4786, 4794, 4797, 4808, 4813, 4831, 4835, 4847, 4855, 4861, 4865, 4876, 4877, 4889, 4897, 4904, 4906, 4908, 4909, 4915, 4921, 4922, 4925, 4927, 4932, 4942, 4972, 4973, 4979, 4989, 4999, 5015, 5035, 5037, 5038, 5046, 5053, 5054, 5061, 5065, 5081, 5087, 5090, 5099, 5100, 5106, 5114, 5137, 5156, 5163, 5165, 5168, 5178, 5180, 5183, 5188, 5193, 5208, 5231, 5232, 5256, 5264, 5268, 5270, 5273, 5282, 5289, 5291, 5301, 5306, 5312, 5321, 5324, 5343, 5345, 5359, 5367, 5371, 5375, 5387, 5396, 5404, 5406, 5412, 5416, 5418, 5424, 5427, 5431, 5446, 5452, 5453, 5461, 5463, 5483, 5497, 5504, 5505, 5511, 5512, 5521, 5523, 5524, 5557, 5560, 5565, 5570, 5587, 5593, 5600, 5602, 5610, 5615, 5618, 5634, 5643, 5645, 5649, 5651, 5661, 5674, 5675, 5676, 5678, 5684, 5698, 5701, 5705, 5706, 5707, 5721, 5738, 5740, 5742, 5747, 5748, 5749, 5751, 5754, 5760, 5761, 5762, 5763, 5788, 5790, 5795, 5801, 5809, 5823, 5825, 5831, 5833, 5839, 5840, 5841, 5858, 5861, 5862, 5875, 5888, 5890, 5903, 5908, 5930, 5938, 5954, 5964, 5978, 5989, 5995, 5996, 6010, 6011, 6013, 6015, 6022, 6025]\n"
     ]
    }
   ],
   "source": [
    "# Define a function that given a user_id and movie_id, returns a list of user_ids for other users that rated\n",
    "# the movie identified by the movie_id with the same score\n",
    "\n",
    "def function(user_id, movie_id):\n",
    "    rating = data.loc[(data['user_id'] == user_id) & (data['movie_id'] == movie_id), 'rating'].iloc[0]\n",
    "    movie = data.loc[(data['movie_id'] == movie_id) & (data['rating'] == rating) & (data['user_id'] != user_id)]\n",
    "    res = list(set(movie['user_id'].tolist()))\n",
    "    res.sort()\n",
    "    return res\n",
    "\n",
    "users = function(1, 1)\n",
    "print(users)"
   ]
  },
  {
   "cell_type": "code",
   "execution_count": 26,
   "metadata": {},
   "outputs": [
    {
     "data": {
      "text/plain": [
       "<matplotlib.axes._subplots.AxesSubplot at 0x19972e4dd68>"
      ]
     },
     "execution_count": 26,
     "metadata": {},
     "output_type": "execute_result"
    },
    {
     "data": {
      "image/png": "[encoded data removed]",
      "text/plain": [
       "<Figure size 720x360 with 1 Axes>"
      ]
     },
     "metadata": {},
     "output_type": "display_data"
    }
   ],
   "source": [
    "# draw a figure to illustrate the relation between the rating of movie 'Toy Story (1995)' and ages\n",
    "# the young people are more interested in the Toy Story than the children and the olders\n",
    "\n",
    "movie.pivot_table('rating', index='age', aggfunc=sum).plot(figsize=(10,5), title='Rating by Ages')"
   ]
  },
  {
   "cell_type": "code",
   "execution_count": 27,
   "metadata": {},
   "outputs": [],
   "source": [
    "# analyze how the first letter of movies relates to rating\n",
    "\n",
    "get_first_letter = lambda x: x[:1]\n",
    "first_letters = data['title'].map(get_first_letter)\n",
    "first_letters.title = 'first_letter'\n",
    "rating_by_first_letter = data.pivot_table('rating', index=first_letters, aggfunc='mean')"
   ]
  },
  {
   "cell_type": "code",
   "execution_count": 28,
   "metadata": {},
   "outputs": [
    {
     "data": {
      "text/plain": [
       "<matplotlib.axes._subplots.AxesSubplot at 0x19972ecc358>"
      ]
     },
     "execution_count": 28,
     "metadata": {},
     "output_type": "execute_result"
    },
    {
     "data": {
      "image/png": "[encoded data removed]",
      "text/plain": [
       "<Figure size 792x720 with 1 Axes>"
      ]
     },
     "metadata": {},
     "output_type": "display_data"
    }
   ],
   "source": [
    "import matplotlib.pyplot as plt\n",
    "\n",
    "# make bar plots for relations between rating and first letter of movies\n",
    "# the first letter of a movie does not have a big effect on how they attract people\n",
    "# since their ratings are almost at the same level\n",
    "\n",
    "fig, axes = plt.subplots(figsize=(11, 10))\n",
    "rating_by_first_letter['rating'].plot(kind='bar', rot=0, ax=axes, title='Rating by First Letter')"
   ]
  },
  {
   "cell_type": "code",
   "execution_count": null,
   "metadata": {},
   "outputs": [],
   "source": []
  }
 ],
 "metadata": {
  "kernelspec": {
   "display_name": "Python 3",
   "language": "python",
   "name": "python3"
  },
  "language_info": {
   "codemirror_mode": {
    "name": "ipython",
    "version": 3
   },
   "file_extension": ".py",
   "mimetype": "text/x-python",
   "name": "python",
   "nbconvert_exporter": "python",
   "pygments_lexer": "ipython3",
   "version": "3.6.2"
  }
 },
 "nbformat": 4,
 "nbformat_minor": 2
}
